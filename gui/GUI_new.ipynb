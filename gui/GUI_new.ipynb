{
 "cells": [
  {
   "cell_type": "code",
   "execution_count": 1,
   "id": "ec90dc37-eae0-4b48-8d3e-b6a3e2b07954",
   "metadata": {},
   "outputs": [],
   "source": [
    "from PyQt5 import QtWidgets\n",
    "from PyQt5.QtWidgets import * \n",
    "import sys\n",
    "import pandas as pd\n",
    "import numpy as np\n",
    "import random"
   ]
  },
  {
   "cell_type": "code",
   "execution_count": 2,
   "id": "7cf1b1c2-0332-4b6d-8068-81fc6777f10d",
   "metadata": {},
   "outputs": [],
   "source": [
    "def dialog():\n",
    "    mbox = QMessageBox()\n",
    "    \n",
    "    mbox.setGeometry(300, 150, 1000, 800)\n",
    "\n",
    "    mbox.setText(\"Print user input here\")\n",
    "    mbox.setStandardButtons(QMessageBox.Ok | QMessageBox.Cancel)\n",
    "            \n",
    "    mbox.exec_()"
   ]
  },
  {
   "cell_type": "code",
   "execution_count": 3,
   "id": "9abb0ef1-fe83-414f-a116-695c9231515e",
   "metadata": {},
   "outputs": [
    {
     "name": "stdout",
     "output_type": "stream",
     "text": [
      "Age : 30\n",
      "Gender : Male\n",
      "Height(feet) : 5\n",
      "Height(inches) : 10\n",
      "Activity : Light exercise, 1-3 days/week\n",
      "Weight : 160\n",
      "Meals per Day : 3\n",
      "Allergies : \n",
      "Diet : Vegan\n",
      "Preferred Meals/Ingredients : \n"
     ]
    },
    {
     "ename": "SystemExit",
     "evalue": "0",
     "output_type": "error",
     "traceback": [
      "An exception has occurred, use %tb to see the full traceback.\n",
      "\u001b[0;31mSystemExit\u001b[0m\u001b[0;31m:\u001b[0m 0\n"
     ]
    },
    {
     "name": "stderr",
     "output_type": "stream",
     "text": [
      "/Users/hari/opt/anaconda3/lib/python3.8/site-packages/IPython/core/interactiveshell.py:3445: UserWarning: To exit: use 'exit', 'quit', or Ctrl-D.\n",
      "  warn(\"To exit: use 'exit', 'quit', or Ctrl-D.\", stacklevel=1)\n"
     ]
    }
   ],
   "source": [
    "class Window(QDialog):\n",
    "  \n",
    "    def __init__(self):\n",
    "        super(Window, self).__init__()\n",
    "        self.setStyleSheet(\"background-color: white;\")\n",
    "        self.setWindowTitle(\"Recipe Recommender and Grocery Shopping\")\n",
    "        self.setGeometry(300, 150, 1000, 800)\n",
    "\n",
    "        self.form = QGroupBox(\"Dietary Metrics\")\n",
    "        self.age = QSpinBox()\n",
    "        self.gender = QComboBox()\n",
    "        self.gender.addItems([\"Male\", \"Female\", \"N/A\"])\n",
    "        self.heightF = QComboBox()\n",
    "        self.heightF.addItems([\"0\", \"1\", \"2\", \"3\", \"4\", \"5\", \"6\", \"7\"])\n",
    "        self.heightI = QComboBox()\n",
    "        self.heightI.addItems([\"0\", \"1\", \"2\", \"3\", \"4\", \"5\", \"6\", \"7\", \"8\", \"9\", \"10\", \"11\"])\n",
    "        self.activity = QComboBox()\n",
    "        self.activity.addItems([\"Little-no exercise\", \"Light exercise, 1-3 days/week\", \"Moderate exercise, 3-5 days/week\", \n",
    "                                \"Hard exercise, 6-7 days a week\", \"Very hard exercise or 2x training\"])\n",
    "        self.weight = QLineEdit()\n",
    "        self.meals = QLineEdit()\n",
    "        self.allergies = QLineEdit()\n",
    "        self.diet = QComboBox()\n",
    "        self.diet.addItems([\"Vegan\", \"Strictly not vegan\", \"Don't mind either\"])\n",
    "        self.output = QComboBox()\n",
    "        self.output.addItems([\"Single recipe\", \"Meal plan\"])\n",
    "        self.pref = QLineEdit()\n",
    "\n",
    "        self.createForm()\n",
    "\n",
    "        self.buttonBox = QDialogButtonBox(QDialogButtonBox.Ok | QDialogButtonBox.Cancel)\n",
    "        self.buttonBox.accepted.connect(self.getInfo)\n",
    "        self.buttonBox.rejected.connect(self.reject)\n",
    "        mainLayout = QVBoxLayout()\n",
    "        mainLayout.addWidget(self.form)\n",
    "        mainLayout.addWidget(self.buttonBox)\n",
    "        self.setLayout(mainLayout)\n",
    "\n",
    "        self.requirements = QtWidgets.QLabel(self)\n",
    "        self.requirements.move(240, 470)\n",
    "        self.requirements.resize(105,30)\n",
    "        self.define = QtWidgets.QLabel(self)\n",
    "        self.define.move(230, 500)\n",
    "        self.define.resize(125,30)\n",
    "\n",
    "        self.D = QtWidgets.QLabel(self)\n",
    "        self.D.move(195, 530)\n",
    "        self.D.resize(70,30)\n",
    "        self.PS = QtWidgets.QLabel(self)\n",
    "        self.PS.move(190, 560)\n",
    "        self.PS.resize(75,30)\n",
    "        self.PM = QtWidgets.QLabel(self)\n",
    "        self.PM.move(205, 590)\n",
    "        self.PM.resize(60,30)\n",
    "        self.PSPM = QtWidgets.QLabel(self)\n",
    "        self.PSPM.move(130, 620)\n",
    "        self.PSPM.resize(135,30)\n",
    "\n",
    "        self.DV = QtWidgets.QLabel(self)\n",
    "        self.DV.move(270, 530)\n",
    "        self.DV.resize(160,30)\n",
    "        self.PSV = QtWidgets.QLabel(self)\n",
    "        self.PSV.move(270, 560)\n",
    "        self.PSV.resize(160,30)\n",
    "        self.PMV = QtWidgets.QLabel(self)\n",
    "        self.PMV.move(270, 590)\n",
    "        self.PMV.resize(160,30)\n",
    "        self.PSPMV = QtWidgets.QLabel(self)\n",
    "        self.PSPMV.move(270, 620)\n",
    "        self.PSPMV.resize(160,30)\n",
    "  \n",
    "\n",
    "    def getInfo(self):\n",
    "        print(\"Age : {0}\".format(self.age.text()))\n",
    "        print(\"Gender : {0}\".format(self.gender.currentText()))\n",
    "        print(\"Height(feet) : {0}\".format(self.heightF.currentText()))\n",
    "        print(\"Height(inches) : {0}\".format(self.heightI.currentText()))\n",
    "        print(\"Activity : {0}\".format(self.activity.currentText()))\n",
    "        print(\"Weight : {0}\".format(self.weight.text()))\n",
    "        print(\"Meals per Day : {0}\".format(self.meals.text()))\n",
    "        print(\"Allergies : {0}\".format(self.allergies.text()))\n",
    "        print(\"Diet : {0}\".format(self.diet.currentText()))\n",
    "        print(\"Preferred Meals/Ingredients : {0}\".format(self.pref.text()))\n",
    "        self.validateInput()\n",
    "        self.printRequirements()\n",
    "\n",
    "    def validateInput(self):\n",
    "        self.all_data = {}\n",
    "\n",
    "        if self.age.text().isnumeric():\n",
    "            self.all_data['age'] = int(self.age.text())\n",
    "        else:\n",
    "            self.all_data['age'] = 30\n",
    "\n",
    "        self.all_data['gender'] = self.gender.currentText()\n",
    "\n",
    "        if self.heightF.currentText().isnumeric():\n",
    "            self.all_data['height feet'] = int(self.heightF.currentText())\n",
    "        else:\n",
    "            self.all_data['height feet'] = 5\n",
    "\n",
    "        if self.heightI.currentText().isnumeric():\n",
    "            self.all_data['height inches'] = int(self.heightI.currentText())\n",
    "        else:\n",
    "            self.all_data['height inches'] = 6\n",
    "\n",
    "        self.all_data['activity'] = self.activity.currentText()\n",
    "\n",
    "        if self.weight.text().isnumeric():\n",
    "            self.all_data['weight'] = int(self.weight.text())\n",
    "        else:\n",
    "            self.all_data['weight'] = 140\n",
    "\n",
    "        if self.meals.text().isnumeric():\n",
    "            self.all_data['meals'] = int(self.meals.text())\n",
    "        else:\n",
    "            self.all_data['meals'] = 3\n",
    "\n",
    "        self.all_data['allergies'] = self.allergies.text().split(\", \")\n",
    "\n",
    "        self.all_data['diet'] = self.diet.currentText()\n",
    "\n",
    "        self.all_data['preferences'] = self.pref.text().split(\", \")\n",
    "\n",
    "    def printRequirements(self):\n",
    "        self.requirements.setText('REQUIREMENTS:')\n",
    "        self.define.setText('Calories/Protein/Fat')\n",
    "\n",
    "        self.D.setText('Total Daily:')\n",
    "        self.PM.setText('Per Meal:')\n",
    "\n",
    "        self.caloriesD = self.getCalories()\n",
    "        self.caloriesPM = self.caloriesD / self.all_data['meals']\n",
    "\n",
    "        self.proteinD = self.getProtein()\n",
    "        self.proteinPM = self.proteinD / self.all_data['meals']\n",
    "\n",
    "        self.fatD = self.getFat()\n",
    "        self.fatPM = self.fatD / self.all_data['meals']\n",
    "\n",
    "        self.DV.setText(str(round(self.caloriesD, 2)) + '/' + str(round(self.proteinD, 2)) + 'g' + '/' + str(round(self.fatD, 2)) + 'g')\n",
    "        self.PMV.setText(str(round(self.caloriesPM, 2)) + '/' + str(round(self.proteinPM, 2)) + 'g' + '/' + str(round(self.fatPM, 2)) + 'g')\n",
    "        \n",
    "\n",
    "    def getCalories(self):\n",
    "        \n",
    "        self.activity_dict = {\"Little-no exercise\":1.2,\n",
    "                            \"Light exercise, 1-3 days/week\":1.375,\n",
    "                            \"Moderate exercise, 3-5 days/week\": 1.55,\n",
    "                            \"Hard exercise, 6-7 days a week\": 1.725,\n",
    "                            \"Very hard exercise or 2x training\": 1.9}\n",
    "        \n",
    "        self.multiplier = self.activity_dict[self.activity.currentText()]\n",
    "        \n",
    "        if self.gender.currentText() == \"Male\":\n",
    "            return (88.362 + (13.397 * self.all_data['weight'] / 2.205) + (4.799 * (self.all_data['height feet'] * 12 + self.all_data['height inches']) * 2.54) - (5.677 * self.all_data['age'])) * self.multiplier\n",
    "        elif self.gender.currentText() == \"Female\":\n",
    "            return (447.593 + (9.247 * self.all_data['weight'] / 2.205) + (3.098 * (self.all_data['height feet'] * 12 + self.all_data['height inches']) * 2.54) - (4.33 * self.all_data['age'])) * self.multiplier\n",
    "        else:\n",
    "            return (267.9775 + (11.322 * self.all_data['weight'] / 2.205) + (3.9485 * (self.all_data['height feet'] * 12 + self.all_data['height inches']) * 2.54) - (5.0035 * self.all_data['age'])) * self.multiplier\n",
    "\n",
    "    def getProtein(self):\n",
    "        return self.all_data['weight'] / 20 * 7\n",
    "\n",
    "    def getFat(self):\n",
    "        return self.caloriesD * 0.3 / 9   \n",
    "  \n",
    "    def createForm(self):\n",
    "        layout = QFormLayout()\n",
    "        layout.addRow(QLabel(\"Age (years)\"), self.age)\n",
    "        layout.addRow(QLabel(\"Gender\"), self.gender)\n",
    "        layout.addRow(QLabel(\"Height(feet)\"), self.heightF)\n",
    "        layout.addRow(QLabel(\"Height(inches)\"), self.heightI)\n",
    "        layout.addRow(QLabel(\"Activity\"), self.activity)\n",
    "        layout.addRow(QLabel(\"Weight(lbs)\"), self.weight)\n",
    "        layout.addRow(QLabel(\"Recommendations for:\"), self.output)\n",
    "        layout.addRow(QLabel(\"Meals per Day\"), self.meals)\n",
    "        layout.addRow(QLabel(\"Food Allergies (separate items with a comma)\"), self.allergies)\n",
    "        layout.addRow(QLabel(\"Vegan?\"), self.diet)\n",
    "        layout.addRow(QLabel(\"Search keywords (separate items with a comma)\"), self.pref)\n",
    "        self.form.setLayout(layout)\n",
    "  \n",
    "if __name__ == '__main__':\n",
    "    app = QApplication(sys.argv)\n",
    "    window = Window()\n",
    "    window.show()\n",
    "    sys.exit(app.exec())"
   ]
  },
  {
   "cell_type": "code",
   "execution_count": 5,
   "id": "ea19a29e-5b4c-4c44-a261-b668f9fc510c",
   "metadata": {},
   "outputs": [],
   "source": [
    "cals = round(window.caloriesPM, 2)\n",
    "protein = round(window.proteinPM, 2)\n",
    "fats = round(window.fatPM, 2)\n",
    "num_meals = window.all_data['meals']\n",
    "allergies = window.all_data['allergies']\n",
    "search_term = window.all_data['preferences']\n",
    "vegan = window.all_data['diet'] "
   ]
  },
  {
   "cell_type": "code",
   "execution_count": 8,
   "id": "25e027f6-7b85-44e3-955e-12382f16cc40",
   "metadata": {},
   "outputs": [
    {
     "data": {
      "text/plain": [
       "'Vegan'"
      ]
     },
     "execution_count": 8,
     "metadata": {},
     "output_type": "execute_result"
    }
   ],
   "source": [
    "vegan"
   ]
  },
  {
   "cell_type": "code",
   "execution_count": 10,
   "id": "8d0b6d6a-c26f-452e-9d7e-d3655dda2f8e",
   "metadata": {},
   "outputs": [],
   "source": [
    "df_recipes = pd.read_csv(\"../datasets/Recipes.csv\")\n",
    "df_ing = pd.read_csv(\"../datasets/Ingredients.csv\")\n",
    "df_rec2ing = pd.read_csv(\"../datasets/Rec2Ing.csv\")"
   ]
  },
  {
   "cell_type": "code",
   "execution_count": 11,
   "id": "e1bc0896-832f-4ac8-a306-ccff864e6f91",
   "metadata": {},
   "outputs": [],
   "source": [
    "def allergy_filter(allergies):\n",
    "\n",
    "    if len(allergies)>=1 and allergies[0]!='':\n",
    "\n",
    "        alg = [i+'*' for i in allergies]\n",
    "\n",
    "        #get all ingredients whose name matches the allergies; merge it with rec2ing to get a list of recipeIDs\n",
    "        dfi = df_ing[df_ing.IngredientName.str.lower().str.contains('|'.join(alg), na=False, regex=True)]\n",
    "        rec2ingID_list = list(df_rec2ing.merge(dfi, on='IngredientID')['RecipeID'])\n",
    "\n",
    "        #get all recipes whose title matches the allergies\n",
    "        recList = list(df_recipes[df_recipes.Title.str.lower().str.contains('|'.join(alg), na=False, regex=True)]['RecipeID'])\n",
    "        recList.append(rec2ingID_list)\n",
    "        dfr = df_recipes[~df_recipes.RecipeID.isin(recList)]\n",
    "    else:\n",
    "        dfr = df_recipes\n",
    "    \n",
    "    return dfr"
   ]
  },
  {
   "cell_type": "code",
   "execution_count": 12,
   "id": "be2bf684-8303-4978-8c27-9b08b0a1a35d",
   "metadata": {},
   "outputs": [],
   "source": [
    "def vegan_filter(vegan, dfr):\n",
    "\n",
    "    if vegan == 'Vegan':\n",
    "        df = dfr[dfr.isVegan=='1']\n",
    "    elif vegan == \"Strictly not vegan\":\n",
    "        df = dfr[dfr.isVegan=='0']\n",
    "    else:\n",
    "        df = dfr\n",
    "        \n",
    "    return df"
   ]
  },
  {
   "cell_type": "code",
   "execution_count": 13,
   "id": "2ec64743-eb3c-4b40-964d-1971deb8121d",
   "metadata": {},
   "outputs": [],
   "source": [
    "def search_filter(search_term, df):\n",
    "\n",
    "    if len(search_term)>=1 and search_term[0]!='':\n",
    "\n",
    "        srch = [i+'*' for i in search_term]\n",
    "\n",
    "        #get all ingredients whose name matches the allergies; merge it with rec2ing to get a list of recipeIDs\n",
    "        dfi = df_ing[df_ing.IngredientName.str.lower().str.contains('|'.join(srch), na=False, regex=True)]\n",
    "        rec2ingID_list = list(df_rec2ing.merge(dfi, on='IngredientID')['RecipeID'])\n",
    "\n",
    "        #get all recipes whose title matches the allergies\n",
    "        recList = list(df[df.Title.str.lower().str.contains('|'.join(srch), na=False, regex=True)]['RecipeID'])\n",
    "        recList.append(rec2ingID_list)\n",
    "        dfr = df[df.RecipeID.isin(recList)]\n",
    "    else:\n",
    "        dfr = df\n",
    "    \n",
    "    return dfr"
   ]
  },
  {
   "cell_type": "code",
   "execution_count": 10,
   "id": "725bd0b1-cba9-4ac5-8785-a3bda1f79fe1",
   "metadata": {},
   "outputs": [],
   "source": [
    "def cal_filter(cal, df):\n",
    "    return df[(df.Calories >= 0.9*cal) & (df.Calories <= 1.1*cal) & (df.Calories >= 0.9*cal) & (df.Calories >= 0.9*cal) \n",
    "              & (df.Calories >= 0.9*cal) & (df.Calories >= 0.9*cal)]"
   ]
  },
  {
   "cell_type": "code",
   "execution_count": 11,
   "id": "464a61dd-bd8b-4566-978f-9ae263a24a4d",
   "metadata": {},
   "outputs": [],
   "source": [
    "def ind_recipes(x):\n",
    "    \n",
    "    df = cal_filter(cals, search_filter(search_term, vegan_filter(vegan, allergy_filter(allergies))))\n",
    "    \n",
    "    df = df[df.No_of_reviews >= 10]\n",
    "    df['score'] = (df.Average_rating*np.log10(df.No_of_reviews)) - (x*df.Prep_time/60)\n",
    "    df.sort_values('score', ascending=False, inplace=True)\n",
    "    \n",
    "    ind_list = list(df['RecipeID'].iloc[0:14])\n",
    "    filtered_list = random.sample(ind_list, k = 5)\n",
    "    \n",
    "    return filtered_list"
   ]
  },
  {
   "cell_type": "code",
   "execution_count": 12,
   "id": "f94ff9ab-0436-4c89-9189-1106a7b1cd11",
   "metadata": {},
   "outputs": [
    {
     "data": {
      "text/plain": [
       "[11843, 16723, 68868, 8669, 8694]"
      ]
     },
     "execution_count": 12,
     "metadata": {},
     "output_type": "execute_result"
    }
   ],
   "source": [
    "ind_recipes(5)"
   ]
  },
  {
   "cell_type": "code",
   "execution_count": 20,
   "id": "eb95b4ae-ce66-4376-a060-4f927f999b94",
   "metadata": {},
   "outputs": [],
   "source": [
    "def meal_plan(x, num_meals):\n",
    "    \n",
    "    df = cal_filter(cals, search_filter(search_term, vegan_filter(vegan, allergy_filter(allergies))))\n",
    "    \n",
    "    df = df[df.No_of_reviews >= 10]\n",
    "    df['score'] = (df.Average_rating*np.log10(df.No_of_reviews)) - (x*df.Prep_time/60)\n",
    "    df.sort_values('score', ascending=False, inplace=True)\n",
    "    \n",
    "    ind_list = list(df['RecipeID'].iloc[0:5*num_meals])\n",
    "    filtered_list = [random.sample(ind_list, k = 5) for i in range(0,3)]\n",
    "    \n",
    "    return filtered_list"
   ]
  },
  {
   "cell_type": "code",
   "execution_count": 24,
   "id": "87a68c6b-a0c8-4148-b26b-f6c056af23ef",
   "metadata": {},
   "outputs": [
    {
     "data": {
      "text/plain": [
       "[[68868, 8694, 8796, 8846, 68380],\n",
       " [19304, 8669, 8694, 88108, 8739],\n",
       " [8846, 68380, 88108, 15028, 91499]]"
      ]
     },
     "execution_count": 24,
     "metadata": {},
     "output_type": "execute_result"
    }
   ],
   "source": [
    "meal_plan(5, 4)"
   ]
  },
  {
   "cell_type": "code",
   "execution_count": 76,
   "id": "bfedf8d3-2de0-422d-8455-604e688161e2",
   "metadata": {},
   "outputs": [],
   "source": [
    "from selenium import webdriver\n",
    "from selenium.webdriver.support.select import Select\n",
    "from selenium.webdriver.common.by import By\n",
    "from selenium.webdriver.support import expected_conditions as EC\n",
    "#from seleniumbase import BaseCase\n",
    "#from selenium.webdriver.common.keys import Keys\n",
    "from selenium.webdriver.support.ui import WebDriverWait"
   ]
  },
  {
   "cell_type": "code",
   "execution_count": 32,
   "id": "489563a8-9d14-48fa-a682-c62bf50f1338",
   "metadata": {},
   "outputs": [
    {
     "ename": "TypeError",
     "evalue": "open() missing 1 required positional argument: 'url'",
     "output_type": "error",
     "traceback": [
      "\u001b[0;31m---------------------------------------------------------------------------\u001b[0m",
      "\u001b[0;31mTypeError\u001b[0m                                 Traceback (most recent call last)",
      "\u001b[0;32m<ipython-input-32-921907eb6dbd>\u001b[0m in \u001b[0;36m<module>\u001b[0;34m\u001b[0m\n\u001b[0;32m----> 1\u001b[0;31m \u001b[0mBaseCase\u001b[0m\u001b[0;34m.\u001b[0m\u001b[0mopen\u001b[0m\u001b[0;34m(\u001b[0m\u001b[0;34m'https://www.amazon.com/afx/ingredients/verify'\u001b[0m\u001b[0;34m)\u001b[0m\u001b[0;34m\u001b[0m\u001b[0;34m\u001b[0m\u001b[0m\n\u001b[0m\u001b[1;32m      2\u001b[0m \u001b[0mBaseCase\u001b[0m\u001b[0;34m.\u001b[0m\u001b[0msend_keys\u001b[0m\u001b[0;34m(\u001b[0m\u001b[0;34m'.a-spacing-base textarea'\u001b[0m\u001b[0;34m,\u001b[0m \u001b[0;34m'Test'\u001b[0m\u001b[0;34m)\u001b[0m\u001b[0;34m\u001b[0m\u001b[0;34m\u001b[0m\u001b[0m\n\u001b[1;32m      3\u001b[0m \u001b[0mBaseCase\u001b[0m\u001b[0;34m.\u001b[0m\u001b[0mclick\u001b[0m\u001b[0;34m(\u001b[0m\u001b[0;34m\"a-autoid-1-announce\"\u001b[0m\u001b[0;34m)\u001b[0m\u001b[0;34m\u001b[0m\u001b[0;34m\u001b[0m\u001b[0m\n",
      "\u001b[0;31mTypeError\u001b[0m: open() missing 1 required positional argument: 'url'"
     ]
    }
   ],
   "source": [
    "BaseCase.open('https://www.amazon.com/afx/ingredients/verify')\n",
    "BaseCase.send_keys('.a-spacing-base textarea', 'Test')\n",
    "BaseCase.click(\"a-autoid-1-announce\")"
   ]
  },
  {
   "cell_type": "code",
   "execution_count": 78,
   "id": "b03ef34b-f4f3-4953-b209-9447fc1c3c55",
   "metadata": {},
   "outputs": [],
   "source": [
    "test = \"Hello World\""
   ]
  },
  {
   "cell_type": "code",
   "execution_count": 79,
   "id": "aba56134-cc63-4b74-a894-9a6002c04bde",
   "metadata": {},
   "outputs": [
    {
     "ename": "ElementNotInteractableException",
     "evalue": "Message: Element <input class=\"a-button-input\" type=\"submit\"> could not be scrolled into view\nStacktrace:\nWebDriverError@chrome://remote/content/shared/webdriver/Errors.jsm:181:5\nElementNotInteractableError@chrome://remote/content/shared/webdriver/Errors.jsm:291:5\nwebdriverClickElement@chrome://remote/content/marionette/interaction.js:156:11\ninteraction.clickElement@chrome://remote/content/marionette/interaction.js:125:11\nclickElement@chrome://remote/content/marionette/actors/MarionetteCommandsChild.jsm:200:24\nreceiveMessage@chrome://remote/content/marionette/actors/MarionetteCommandsChild.jsm:91:31\n",
     "output_type": "error",
     "traceback": [
      "\u001b[0;31m---------------------------------------------------------------------------\u001b[0m",
      "\u001b[0;31mElementNotInteractableException\u001b[0m           Traceback (most recent call last)",
      "\u001b[0;32m<ipython-input-79-4565b91b3a13>\u001b[0m in \u001b[0;36m<module>\u001b[0;34m\u001b[0m\n\u001b[1;32m     32\u001b[0m \u001b[0;34m\u001b[0m\u001b[0m\n\u001b[1;32m     33\u001b[0m \u001b[0;31m#Click the buy button\u001b[0m\u001b[0;34m\u001b[0m\u001b[0;34m\u001b[0m\u001b[0;34m\u001b[0m\u001b[0m\n\u001b[0;32m---> 34\u001b[0;31m \u001b[0mdriver\u001b[0m\u001b[0;34m.\u001b[0m\u001b[0mfind_element\u001b[0m\u001b[0;34m(\u001b[0m\u001b[0mBy\u001b[0m\u001b[0;34m.\u001b[0m\u001b[0mXPATH\u001b[0m\u001b[0;34m,\u001b[0m\u001b[0;34m'/html/body/div[1]/div[2]/div/div[2]/div[1]/div/div[2]/form/span/span/input'\u001b[0m\u001b[0;34m)\u001b[0m\u001b[0;34m.\u001b[0m\u001b[0mclick\u001b[0m\u001b[0;34m(\u001b[0m\u001b[0;34m)\u001b[0m\u001b[0;34m\u001b[0m\u001b[0;34m\u001b[0m\u001b[0m\n\u001b[0m\u001b[1;32m     35\u001b[0m \u001b[0;34m\u001b[0m\u001b[0m\n\u001b[1;32m     36\u001b[0m \u001b[0;31m#href_url = driver.find_element(By.ID,'afx-ingredients-encoded').get_attribute('href')\u001b[0m\u001b[0;34m\u001b[0m\u001b[0;34m\u001b[0m\u001b[0;34m\u001b[0m\u001b[0m\n",
      "\u001b[0;32m~/opt/anaconda3/lib/python3.8/site-packages/selenium/webdriver/remote/webelement.py\u001b[0m in \u001b[0;36mclick\u001b[0;34m(self)\u001b[0m\n\u001b[1;32m     79\u001b[0m     \u001b[0;32mdef\u001b[0m \u001b[0mclick\u001b[0m\u001b[0;34m(\u001b[0m\u001b[0mself\u001b[0m\u001b[0;34m)\u001b[0m \u001b[0;34m->\u001b[0m \u001b[0;32mNone\u001b[0m\u001b[0;34m:\u001b[0m\u001b[0;34m\u001b[0m\u001b[0;34m\u001b[0m\u001b[0m\n\u001b[1;32m     80\u001b[0m         \u001b[0;34m\"\"\"Clicks the element.\"\"\"\u001b[0m\u001b[0;34m\u001b[0m\u001b[0;34m\u001b[0m\u001b[0m\n\u001b[0;32m---> 81\u001b[0;31m         \u001b[0mself\u001b[0m\u001b[0;34m.\u001b[0m\u001b[0m_execute\u001b[0m\u001b[0;34m(\u001b[0m\u001b[0mCommand\u001b[0m\u001b[0;34m.\u001b[0m\u001b[0mCLICK_ELEMENT\u001b[0m\u001b[0;34m)\u001b[0m\u001b[0;34m\u001b[0m\u001b[0;34m\u001b[0m\u001b[0m\n\u001b[0m\u001b[1;32m     82\u001b[0m \u001b[0;34m\u001b[0m\u001b[0m\n\u001b[1;32m     83\u001b[0m     \u001b[0;32mdef\u001b[0m \u001b[0msubmit\u001b[0m\u001b[0;34m(\u001b[0m\u001b[0mself\u001b[0m\u001b[0;34m)\u001b[0m\u001b[0;34m:\u001b[0m\u001b[0;34m\u001b[0m\u001b[0;34m\u001b[0m\u001b[0m\n",
      "\u001b[0;32m~/opt/anaconda3/lib/python3.8/site-packages/selenium/webdriver/remote/webelement.py\u001b[0m in \u001b[0;36m_execute\u001b[0;34m(self, command, params)\u001b[0m\n\u001b[1;32m    708\u001b[0m             \u001b[0mparams\u001b[0m \u001b[0;34m=\u001b[0m \u001b[0;34m{\u001b[0m\u001b[0;34m}\u001b[0m\u001b[0;34m\u001b[0m\u001b[0;34m\u001b[0m\u001b[0m\n\u001b[1;32m    709\u001b[0m         \u001b[0mparams\u001b[0m\u001b[0;34m[\u001b[0m\u001b[0;34m'id'\u001b[0m\u001b[0;34m]\u001b[0m \u001b[0;34m=\u001b[0m \u001b[0mself\u001b[0m\u001b[0;34m.\u001b[0m\u001b[0m_id\u001b[0m\u001b[0;34m\u001b[0m\u001b[0;34m\u001b[0m\u001b[0m\n\u001b[0;32m--> 710\u001b[0;31m         \u001b[0;32mreturn\u001b[0m \u001b[0mself\u001b[0m\u001b[0;34m.\u001b[0m\u001b[0m_parent\u001b[0m\u001b[0;34m.\u001b[0m\u001b[0mexecute\u001b[0m\u001b[0;34m(\u001b[0m\u001b[0mcommand\u001b[0m\u001b[0;34m,\u001b[0m \u001b[0mparams\u001b[0m\u001b[0;34m)\u001b[0m\u001b[0;34m\u001b[0m\u001b[0;34m\u001b[0m\u001b[0m\n\u001b[0m\u001b[1;32m    711\u001b[0m \u001b[0;34m\u001b[0m\u001b[0m\n\u001b[1;32m    712\u001b[0m     \u001b[0;32mdef\u001b[0m \u001b[0mfind_element\u001b[0m\u001b[0;34m(\u001b[0m\u001b[0mself\u001b[0m\u001b[0;34m,\u001b[0m \u001b[0mby\u001b[0m\u001b[0;34m=\u001b[0m\u001b[0mBy\u001b[0m\u001b[0;34m.\u001b[0m\u001b[0mID\u001b[0m\u001b[0;34m,\u001b[0m \u001b[0mvalue\u001b[0m\u001b[0;34m=\u001b[0m\u001b[0;32mNone\u001b[0m\u001b[0;34m)\u001b[0m\u001b[0;34m:\u001b[0m\u001b[0;34m\u001b[0m\u001b[0;34m\u001b[0m\u001b[0m\n",
      "\u001b[0;32m~/opt/anaconda3/lib/python3.8/site-packages/selenium/webdriver/remote/webdriver.py\u001b[0m in \u001b[0;36mexecute\u001b[0;34m(self, driver_command, params)\u001b[0m\n\u001b[1;32m    422\u001b[0m         \u001b[0mresponse\u001b[0m \u001b[0;34m=\u001b[0m \u001b[0mself\u001b[0m\u001b[0;34m.\u001b[0m\u001b[0mcommand_executor\u001b[0m\u001b[0;34m.\u001b[0m\u001b[0mexecute\u001b[0m\u001b[0;34m(\u001b[0m\u001b[0mdriver_command\u001b[0m\u001b[0;34m,\u001b[0m \u001b[0mparams\u001b[0m\u001b[0;34m)\u001b[0m\u001b[0;34m\u001b[0m\u001b[0;34m\u001b[0m\u001b[0m\n\u001b[1;32m    423\u001b[0m         \u001b[0;32mif\u001b[0m \u001b[0mresponse\u001b[0m\u001b[0;34m:\u001b[0m\u001b[0;34m\u001b[0m\u001b[0;34m\u001b[0m\u001b[0m\n\u001b[0;32m--> 424\u001b[0;31m             \u001b[0mself\u001b[0m\u001b[0;34m.\u001b[0m\u001b[0merror_handler\u001b[0m\u001b[0;34m.\u001b[0m\u001b[0mcheck_response\u001b[0m\u001b[0;34m(\u001b[0m\u001b[0mresponse\u001b[0m\u001b[0;34m)\u001b[0m\u001b[0;34m\u001b[0m\u001b[0;34m\u001b[0m\u001b[0m\n\u001b[0m\u001b[1;32m    425\u001b[0m             response['value'] = self._unwrap_value(\n\u001b[1;32m    426\u001b[0m                 response.get('value', None))\n",
      "\u001b[0;32m~/opt/anaconda3/lib/python3.8/site-packages/selenium/webdriver/remote/errorhandler.py\u001b[0m in \u001b[0;36mcheck_response\u001b[0;34m(self, response)\u001b[0m\n\u001b[1;32m    245\u001b[0m                 \u001b[0malert_text\u001b[0m \u001b[0;34m=\u001b[0m \u001b[0mvalue\u001b[0m\u001b[0;34m[\u001b[0m\u001b[0;34m'alert'\u001b[0m\u001b[0;34m]\u001b[0m\u001b[0;34m.\u001b[0m\u001b[0mget\u001b[0m\u001b[0;34m(\u001b[0m\u001b[0;34m'text'\u001b[0m\u001b[0;34m)\u001b[0m\u001b[0;34m\u001b[0m\u001b[0;34m\u001b[0m\u001b[0m\n\u001b[1;32m    246\u001b[0m             \u001b[0;32mraise\u001b[0m \u001b[0mexception_class\u001b[0m\u001b[0;34m(\u001b[0m\u001b[0mmessage\u001b[0m\u001b[0;34m,\u001b[0m \u001b[0mscreen\u001b[0m\u001b[0;34m,\u001b[0m \u001b[0mstacktrace\u001b[0m\u001b[0;34m,\u001b[0m \u001b[0malert_text\u001b[0m\u001b[0;34m)\u001b[0m  \u001b[0;31m# type: ignore[call-arg]  # mypy is not smart enough here\u001b[0m\u001b[0;34m\u001b[0m\u001b[0;34m\u001b[0m\u001b[0m\n\u001b[0;32m--> 247\u001b[0;31m         \u001b[0;32mraise\u001b[0m \u001b[0mexception_class\u001b[0m\u001b[0;34m(\u001b[0m\u001b[0mmessage\u001b[0m\u001b[0;34m,\u001b[0m \u001b[0mscreen\u001b[0m\u001b[0;34m,\u001b[0m \u001b[0mstacktrace\u001b[0m\u001b[0;34m)\u001b[0m\u001b[0;34m\u001b[0m\u001b[0;34m\u001b[0m\u001b[0m\n\u001b[0m\u001b[1;32m    248\u001b[0m \u001b[0;34m\u001b[0m\u001b[0m\n\u001b[1;32m    249\u001b[0m     \u001b[0;32mdef\u001b[0m \u001b[0m_value_or_default\u001b[0m\u001b[0;34m(\u001b[0m\u001b[0mself\u001b[0m\u001b[0;34m,\u001b[0m \u001b[0mobj\u001b[0m\u001b[0;34m:\u001b[0m \u001b[0mMapping\u001b[0m\u001b[0;34m[\u001b[0m\u001b[0m_KT\u001b[0m\u001b[0;34m,\u001b[0m \u001b[0m_VT\u001b[0m\u001b[0;34m]\u001b[0m\u001b[0;34m,\u001b[0m \u001b[0mkey\u001b[0m\u001b[0;34m:\u001b[0m \u001b[0m_KT\u001b[0m\u001b[0;34m,\u001b[0m \u001b[0mdefault\u001b[0m\u001b[0;34m:\u001b[0m \u001b[0m_VT\u001b[0m\u001b[0;34m)\u001b[0m \u001b[0;34m->\u001b[0m \u001b[0m_VT\u001b[0m\u001b[0;34m:\u001b[0m\u001b[0;34m\u001b[0m\u001b[0;34m\u001b[0m\u001b[0m\n",
      "\u001b[0;31mElementNotInteractableException\u001b[0m: Message: Element <input class=\"a-button-input\" type=\"submit\"> could not be scrolled into view\nStacktrace:\nWebDriverError@chrome://remote/content/shared/webdriver/Errors.jsm:181:5\nElementNotInteractableError@chrome://remote/content/shared/webdriver/Errors.jsm:291:5\nwebdriverClickElement@chrome://remote/content/marionette/interaction.js:156:11\ninteraction.clickElement@chrome://remote/content/marionette/interaction.js:125:11\nclickElement@chrome://remote/content/marionette/actors/MarionetteCommandsChild.jsm:200:24\nreceiveMessage@chrome://remote/content/marionette/actors/MarionetteCommandsChild.jsm:91:31\n"
     ]
    }
   ],
   "source": [
    "driver = webdriver.Firefox()\n",
    "driver.get('https://www.amazon.com/afx/ingredients/verify')\n",
    "\n",
    "#Find the div id of the dropdown menu and select the value needed based on the displayed text \n",
    "#Can be done by element value too\n",
    "\n",
    "#Select(driver.find_element(By.ID,'afx-ingredients-verify-brand-input')).select_by_value(\"QW1hem9uIEZyZXNo\")\n",
    "#driver.find_element(By.CLASS_NAME,'a-dropdown-container').click()\n",
    "\n",
    "# select = Select(driver.find_element(By.ID,'afx-ingredients-verify-brand-input'))\n",
    "# WebDriverWait(driver, 1).until(EC.invisibility_of_element_located((By.XPATH, \"/html/body/div[1]/div[2]/div/div[1]\")))\n",
    "# driver.find_element(By.ID,'afx-ingredients-verify-brand-input').click()\n",
    "\n",
    "# #(By.XPATH, \"//*[@id='afx-ingredients-verify-brand-input']//options[contains(.,'Whole Foods)]\")))\n",
    "\n",
    "# #.select_by_value(\"VUZHIFdob2xlIEZvb2Rz\")\n",
    "\n",
    "\n",
    "# select.select_by_visible_text(\"Whole Foods\")\n",
    "\n",
    "#Clear the values in the text box\n",
    "driver.find_element(By.ID,'afx-ingredients-verifier-json-input').clear()\n",
    "\n",
    "#Input values using the variable test - right now it uses the test string variable, so it'll stop working after verify as no url would be created\n",
    "driver.find_element(By.ID,'afx-ingredients-verifier-json-input').send_keys(test)\n",
    "\n",
    "#Click on the verify button\n",
    "driver.find_element(By.CLASS_NAME,'a-button-input').click()\n",
    "\n",
    "#Wait a second for the URl link to show up\n",
    "WebDriverWait(driver, 1).until(EC.invisibility_of_element_located((By.XPATH,'/html/body/div[1]/div[2]/div/div[2]/div[1]/div/div[2]/form/span/span/input')))\n",
    "\n",
    "#Click the buy button\n",
    "driver.find_element(By.XPATH,'/html/body/div[1]/div[2]/div/div[2]/div[1]/div/div[2]/form/span/span/input').click()\n",
    "\n",
    "#href_url = driver.find_element(By.ID,'afx-ingredients-encoded').get_attribute('href')\n"
   ]
  }
 ],
 "metadata": {
  "kernelspec": {
   "display_name": "Python 3",
   "language": "python",
   "name": "python3"
  },
  "language_info": {
   "codemirror_mode": {
    "name": "ipython",
    "version": 3
   },
   "file_extension": ".py",
   "mimetype": "text/x-python",
   "name": "python",
   "nbconvert_exporter": "python",
   "pygments_lexer": "ipython3",
   "version": "3.8.8"
  }
 },
 "nbformat": 4,
 "nbformat_minor": 5
}
