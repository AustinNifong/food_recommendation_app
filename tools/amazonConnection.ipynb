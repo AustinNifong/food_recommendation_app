{
 "cells": [
  {
   "cell_type": "code",
   "execution_count": 1,
   "id": "446db02a",
   "metadata": {},
   "outputs": [],
   "source": [
    "import json\n",
    "import webbrowser"
   ]
  },
  {
   "cell_type": "code",
   "execution_count": 2,
   "id": "1ea1b293",
   "metadata": {},
   "outputs": [],
   "source": [
    "import pandas as pd\n",
    "df_recipes = pd.read_csv(\"Recipes.csv\")\n",
    "df_ing = pd.read_csv(\"Ingredients.csv\")\n",
    "df_rec2ing = pd.read_csv(\"Rec2Ing.csv\")"
   ]
  },
  {
   "cell_type": "code",
   "execution_count": 3,
   "id": "ab1a0a24",
   "metadata": {},
   "outputs": [
    {
     "name": "stdout",
     "output_type": "stream",
     "text": [
      "[27, 171, 4, 13, 107, 91, 345, 78, 156, 261, 36, 175, 56, 71, 8512, 20, 3, 14, 36, 80, 4, 21, 105, 103, 127]\n",
      "[2.0, 2.0, 2.0, 56.0, 30.0, 6.0, 2.0, 1.0, 31.0, 1.0, 1.0, 4.0, 9.0, 2.0, 1.5, 9.0, 1.0, 1.0, 1.0, 1.0, 2.0, 0.5, 2.0, 1.0, 7.5]\n",
      "['pound', 'cup', 'count', 'ounce', 'ounce', 'teaspoon', 'teaspoon', 'count', 'ounce', 'pound', 'count', 'cup', 'count', 'cup', 'cup', 'ounce', 'tablespoon', 'pound', 'count', 'count', 'clove', 'cup', 'tablespoon', 'count', 'ounce']\n",
      "['beef', 'onions', 'garlic', 'tomatoes', 'tomato sauce', 'chili powder', 'cumin', 'green bell pepper', 'kidney beans', 'bacon', 'onion', 'potatoes', 'eggs', 'cheddar', 'cottage cheese', 'pasta', 'olive oil', 'chicken breast', 'onion', 'yellow bell pepper', 'garlic', 'chicken broth', 'sherry', 'salt and pepper', 'cream cheese']\n"
     ]
    }
   ],
   "source": [
    "selectedRecipeIds = [103305, 229150, 11730]\n",
    "ingList = []\n",
    "unitList = []\n",
    "amountList = []\n",
    "\n",
    "ingId = []\n",
    "#df_recipes.head()\n",
    "#df_ing.head()\n",
    "\n",
    "\n",
    "\n",
    "for rID in selectedRecipeIds:\n",
    "#rID = selectedRecipeIds[0]\n",
    "\n",
    "    newDF = df_rec2ing.loc[df_rec2ing['RecipeID'] == rID]\n",
    "    ingId += newDF['IngredientID'].tolist()\n",
    "    amountList += newDF['Quantity'].tolist()\n",
    "    unitList += newDF['Unit'].tolist()\n",
    "\n",
    "    \n",
    "print(ingId, amountList, unitList, sep=\"\\n\")\n",
    "\n",
    "for i,iD in enumerate(ingId):\n",
    "    index = df_ing[df_ing['IngredientID'] == iD].index[0]\n",
    "    ingList.append(df_ing.iloc[index]['IngredientName'])\n",
    "\n",
    "# df_ing.head()\n",
    "print(ingList)\n",
    "    "
   ]
  },
  {
   "cell_type": "code",
   "execution_count": 4,
   "id": "0a4b2308",
   "metadata": {},
   "outputs": [],
   "source": [
    "# ingList = [\"bacon\", \"onion\", \"potatoes\", \"eggs\", \"cheddar\", \"cottage cheese\"]\n",
    "# unitList =[\"pound\", \"count\", \"cup\", \"count\", \"cup\", \"cup\"]        \n",
    "# amountList = [1, 1, 4, 9, 2, 1.5]\n",
    "\n",
    "#adjust units for Amazon\n",
    "for i in range(len(unitList)):\n",
    "    if unitList[i] in [\"cup\", \"clove\", \"pound\", \"ounce\", \"clove\", \"stalk\", \"quart\", \"slice\", \"pint\",\"gallon\", \"drop\"]:\n",
    "        unitList[i] = unitList[i].upper() + \"S\"\n",
    "    if unitList[i] == \"tablespoon\":\n",
    "        unitList[i] = \"TBSP\"\n",
    "    if unitList[i] == \"teaspoon\":\n",
    "        unitList[i] = \"TSP\"\n",
    "    if unitList[i] == \"leaf\":\n",
    "        unitList[i] = \"LEAVES\"\n",
    "    if unitList[i] == \"pinch\":\n",
    "        unitList[i] = \"PINCHES\"\n",
    "    if unitList[i] == \"dash\":\n",
    "        unitList[i] = \"DE_DASH\"\n",
    "    \n",
    "# print(unitList)"
   ]
  },
  {
   "cell_type": "code",
   "execution_count": 5,
   "id": "5e526a5c",
   "metadata": {},
   "outputs": [],
   "source": [
    "\n",
    "\n",
    "example = {\"ingredients\": []}\n",
    "\n",
    "for ing, un, amt in zip(ingList, unitList,  amountList):\n",
    "\tnewD = {\"name\": ing, \n",
    "\t\t\t\t\t\"quantityList\":[{\"unit\": un, \"amount\": amt}],\n",
    "\t\t\t\t\t \"exclusiveOverride\": \"false\"}\n",
    "\texample['ingredients'].append(newD)\n",
    "\n",
    "\n",
    "# convert into JSON:\n",
    "myJSON = json.dumps(example)\n",
    "\n",
    "f = open('toAmazon.html','w')\n",
    "\n",
    "html_content = \"\"\"<html>\n",
    "  <head>\n",
    "    <meta charset=\"utf-8\">\n",
    "    <meta name=\"viewport\" content=\"width=device-width\">\n",
    "    <title>replit</title>\n",
    "    <link href=\"style.css\" rel=\"stylesheet\" type=\"text/css\" />\n",
    "  </head>\n",
    "  <body>\n",
    "\t\t<form method=\"POST\" action=\"https://www.amazon.com/afx/ingredients/landing\">\n",
    "     <input type=\"hidden\" name=\"ingredients\" value='\"\"\" + myJSON + \"\"\"'>\n",
    "     <input type=\"submit\" value=\"Buy on Amazon\" name = \"button\">\n",
    "   </form>\n",
    "\n",
    "    <script src=\"script.js\"></script>\n",
    "  </body>\n",
    "</html>\"\"\"\n",
    "\n",
    "f.write(html_content)\n",
    "f.close()\n",
    "\n"
   ]
  },
  {
   "cell_type": "code",
   "execution_count": 38,
   "id": "f42e91b7",
   "metadata": {},
   "outputs": [],
   "source": [
    "#webbrowser.open_new_tab(\"file://\" + os.path.realpath(\"toAmazon.html\"))\n",
    "    #'https://www.amazon.com/afx/ingredients/verify')\n"
   ]
  },
  {
   "cell_type": "code",
   "execution_count": 6,
   "id": "c0dd61a7",
   "metadata": {},
   "outputs": [],
   "source": [
    "from selenium import webdriver\n",
    "from selenium.webdriver.support.select import Select\n",
    "from selenium.webdriver.common.by import By\n",
    "from selenium.webdriver.support import expected_conditions as EC\n",
    "from selenium.webdriver.support.ui import WebDriverWait\n",
    "from selenium.webdriver.firefox.options import Options\n",
    "import os\n",
    "\n",
    "driver = webdriver.Firefox()\n",
    "\n",
    "driver.get(\"file://\" + os.path.realpath(\"toAmazon.html\"))\n",
    "\n",
    "driver.find_element_by_name('button').click()\n",
    "\n",
    "#driver.close()"
   ]
  },
  {
   "cell_type": "code",
   "execution_count": null,
   "id": "2302e877",
   "metadata": {},
   "outputs": [],
   "source": []
  },
  {
   "cell_type": "code",
   "execution_count": null,
   "id": "d8283a34",
   "metadata": {},
   "outputs": [],
   "source": []
  }
 ],
 "metadata": {
  "kernelspec": {
   "display_name": "Python 3 (ipykernel)",
   "language": "python",
   "name": "python3"
  },
  "language_info": {
   "codemirror_mode": {
    "name": "ipython",
    "version": 3
   },
   "file_extension": ".py",
   "mimetype": "text/x-python",
   "name": "python",
   "nbconvert_exporter": "python",
   "pygments_lexer": "ipython3",
   "version": "3.9.6"
  }
 },
 "nbformat": 4,
 "nbformat_minor": 5
}
